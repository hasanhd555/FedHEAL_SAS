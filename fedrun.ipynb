{
 "cells": [
  {
   "cell_type": "code",
   "execution_count": 1,
   "metadata": {
    "_cell_guid": "b1076dfc-b9ad-4769-8c92-a6c4dae69d19",
    "_uuid": "8f2839f25d086af736a60e9eeb907d3b93b6e0e5",
    "execution": {
     "iopub.execute_input": "2024-12-22T14:39:00.922932Z",
     "iopub.status.busy": "2024-12-22T14:39:00.922668Z",
     "iopub.status.idle": "2024-12-22T14:39:02.192472Z",
     "shell.execute_reply": "2024-12-22T14:39:02.191236Z",
     "shell.execute_reply.started": "2024-12-22T14:39:00.922904Z"
    },
    "trusted": true
   },
   "outputs": [
    {
     "name": "stdout",
     "output_type": "stream",
     "text": [
      "Cloning into 'FedHEAL_SAS'...\n",
      "remote: Enumerating objects: 66, done.\u001b[K\n",
      "remote: Counting objects: 100% (34/34), done.\u001b[K\n",
      "remote: Compressing objects: 100% (22/22), done.\u001b[K\n",
      "remote: Total 66 (delta 18), reused 24 (delta 12), pack-reused 32 (from 1)\u001b[K\n",
      "Receiving objects: 100% (66/66), 26.10 KiB | 862.00 KiB/s, done.\n",
      "Resolving deltas: 100% (23/23), done.\n"
     ]
    }
   ],
   "source": [
    "!git clone https://github.com/hasanhd555/FedHEAL_SAS.git"
   ]
  },
  {
   "cell_type": "code",
   "execution_count": 2,
   "metadata": {
    "execution": {
     "iopub.execute_input": "2024-12-22T14:39:02.194405Z",
     "iopub.status.busy": "2024-12-22T14:39:02.194000Z",
     "iopub.status.idle": "2024-12-22T14:39:02.202898Z",
     "shell.execute_reply": "2024-12-22T14:39:02.201938Z",
     "shell.execute_reply.started": "2024-12-22T14:39:02.194369Z"
    },
    "trusted": true
   },
   "outputs": [
    {
     "name": "stdout",
     "output_type": "stream",
     "text": [
      "/kaggle/working/FedHEAL_SAS\n"
     ]
    }
   ],
   "source": [
    "%cd /kaggle/working/FedHEAL_SAS"
   ]
  },
  {
   "cell_type": "code",
   "execution_count": 13,
   "metadata": {
    "execution": {
     "iopub.execute_input": "2024-12-22T15:50:57.525903Z",
     "iopub.status.busy": "2024-12-22T15:50:57.525493Z",
     "iopub.status.idle": "2024-12-22T15:50:58.512763Z",
     "shell.execute_reply": "2024-12-22T15:50:58.511440Z",
     "shell.execute_reply.started": "2024-12-22T15:50:57.525875Z"
    },
    "trusted": true
   },
   "outputs": [
    {
     "name": "stdout",
     "output_type": "stream",
     "text": [
      "remote: Enumerating objects: 7, done.\u001b[K\n",
      "remote: Counting objects: 100% (7/7), done.\u001b[K\n",
      "remote: Compressing objects: 100% (1/1), done.\u001b[K\n",
      "remote: Total 4 (delta 3), reused 4 (delta 3), pack-reused 0 (from 0)\u001b[K\n",
      "Unpacking objects: 100% (4/4), 342 bytes | 171.00 KiB/s, done.\n",
      "From https://github.com/hasanhd555/FedHEAL_SAS\n",
      "   53f8f69..95559bf  main       -> origin/main\n",
      "Updating 53f8f69..95559bf\n",
      "Fast-forward\n",
      " models/fedavgheal.py | 2 \u001b[32m+\u001b[m\u001b[31m-\u001b[m\n",
      " 1 file changed, 1 insertion(+), 1 deletion(-)\n"
     ]
    }
   ],
   "source": [
    "!git pull"
   ]
  },
  {
   "cell_type": "code",
   "execution_count": 4,
   "metadata": {
    "execution": {
     "iopub.execute_input": "2024-12-22T14:39:02.938085Z",
     "iopub.status.busy": "2024-12-22T14:39:02.937767Z",
     "iopub.status.idle": "2024-12-22T14:39:03.063545Z",
     "shell.execute_reply": "2024-12-22T14:39:03.062002Z",
     "shell.execute_reply.started": "2024-12-22T14:39:02.938058Z"
    },
    "trusted": true
   },
   "outputs": [
    {
     "name": "stdout",
     "output_type": "stream",
     "text": [
      "\u001b[0m\u001b[01;34mbackbone\u001b[0m/  \u001b[01;34mdatasets\u001b[0m/  LICENSE  main.py  \u001b[01;34mmodels\u001b[0m/  README.md  \u001b[01;34mutils\u001b[0m/\n"
     ]
    }
   ],
   "source": [
    "%ls"
   ]
  },
  {
   "cell_type": "code",
   "execution_count": 3,
   "metadata": {},
   "outputs": [
    {
     "name": "stdout",
     "output_type": "stream",
     "text": [
      "Defaulting to user installation because normal site-packages is not writeable\n",
      "Requirement already satisfied: torch in /Users/zaeemr49/Library/Python/3.9/lib/python/site-packages (2.5.0)\n",
      "Requirement already satisfied: torchvision in /Users/zaeemr49/Library/Python/3.9/lib/python/site-packages (0.20.0)\n",
      "Requirement already satisfied: filelock in /Users/zaeemr49/Library/Python/3.9/lib/python/site-packages (from torch) (3.16.1)\n",
      "Requirement already satisfied: typing-extensions>=4.8.0 in /Users/zaeemr49/Library/Python/3.9/lib/python/site-packages (from torch) (4.12.2)\n",
      "Requirement already satisfied: networkx in /Users/zaeemr49/Library/Python/3.9/lib/python/site-packages (from torch) (3.2.1)\n",
      "Requirement already satisfied: jinja2 in /Users/zaeemr49/Library/Python/3.9/lib/python/site-packages (from torch) (3.1.4)\n",
      "Requirement already satisfied: fsspec in /Users/zaeemr49/Library/Python/3.9/lib/python/site-packages (from torch) (2024.10.0)\n",
      "Requirement already satisfied: sympy==1.13.1 in /Users/zaeemr49/Library/Python/3.9/lib/python/site-packages (from torch) (1.13.1)\n",
      "Requirement already satisfied: mpmath<1.4,>=1.1.0 in /Users/zaeemr49/Library/Python/3.9/lib/python/site-packages (from sympy==1.13.1->torch) (1.3.0)\n",
      "Requirement already satisfied: numpy in /Users/zaeemr49/Library/Python/3.9/lib/python/site-packages (from torchvision) (1.26.4)\n",
      "Requirement already satisfied: pillow!=8.3.*,>=5.3.0 in /Users/zaeemr49/Library/Python/3.9/lib/python/site-packages (from torchvision) (10.4.0)\n",
      "Requirement already satisfied: MarkupSafe>=2.0 in /Users/zaeemr49/Library/Python/3.9/lib/python/site-packages (from jinja2->torch) (2.1.5)\n",
      "\n",
      "\u001b[1m[\u001b[0m\u001b[34;49mnotice\u001b[0m\u001b[1;39;49m]\u001b[0m\u001b[39;49m A new release of pip is available: \u001b[0m\u001b[31;49m24.1.2\u001b[0m\u001b[39;49m -> \u001b[0m\u001b[32;49m24.3.1\u001b[0m\n",
      "\u001b[1m[\u001b[0m\u001b[34;49mnotice\u001b[0m\u001b[1;39;49m]\u001b[0m\u001b[39;49m To update, run: \u001b[0m\u001b[32;49m/Applications/Xcode.app/Contents/Developer/usr/bin/python3 -m pip install --upgrade pip\u001b[0m\n"
     ]
    }
   ],
   "source": [
    "!pip install torch torchvision\n",
    "# Add other dependencies here if needed\n"
   ]
  },
  {
   "cell_type": "code",
   "execution_count": 4,
   "metadata": {},
   "outputs": [],
   "source": [
    "import time"
   ]
  },
  {
   "cell_type": "code",
   "execution_count": 5,
   "metadata": {
    "execution": {
     "iopub.execute_input": "2024-12-22T15:58:46.097202Z",
     "iopub.status.busy": "2024-12-22T15:58:46.096790Z"
    },
    "trusted": true
   },
   "outputs": [
    {
     "name": "stdout",
     "output_type": "stream",
     "text": [
      "Start Time: 1734893451.625531\n",
      "zsh:1: command not found: python\n",
      "End Time: 1734893451.994699\n",
      "Total Execution Time: 0.37 seconds\n"
     ]
    }
   ],
   "source": [
    "# !python main.py --syn 0 --parti_num 6 --mnist 2 --usps 2 --svhn 2 \n",
    "start_time = time.time()\n",
    "print(\"Start Time:\",start_time)\n",
    "!python main.py --communication_epoch 3 --local_epoch 5 --syn 0 --parti_num 6 --mnist 2 --usps 2 --svhn 2 \n",
    "end_time = time.time()\n",
    "print(\"End Time:\",end_time)\n",
    "elapsed_time = end_time - start_time\n",
    "print(f\"Total Execution Time: {elapsed_time:.2f} seconds\")"
   ]
  },
  {
   "cell_type": "code",
   "execution_count": null,
   "metadata": {
    "trusted": true
   },
   "outputs": [],
   "source": []
  }
 ],
 "metadata": {
  "kaggle": {
   "accelerator": "none",
   "dataSources": [],
   "dockerImageVersionId": 30822,
   "isGpuEnabled": false,
   "isInternetEnabled": true,
   "language": "python",
   "sourceType": "notebook"
  },
  "kernelspec": {
   "display_name": "Python 3",
   "language": "python",
   "name": "python3"
  },
  "language_info": {
   "codemirror_mode": {
    "name": "ipython",
    "version": 3
   },
   "file_extension": ".py",
   "mimetype": "text/x-python",
   "name": "python",
   "nbconvert_exporter": "python",
   "pygments_lexer": "ipython3",
   "version": "3.9.6"
  }
 },
 "nbformat": 4,
 "nbformat_minor": 4
}
